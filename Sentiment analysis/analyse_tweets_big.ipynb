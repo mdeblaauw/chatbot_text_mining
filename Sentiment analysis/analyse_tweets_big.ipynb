{
 "cells": [
  {
   "cell_type": "markdown",
   "metadata": {},
   "source": [
    "# Settings"
   ]
  },
  {
   "cell_type": "code",
   "execution_count": 1,
   "metadata": {
    "collapsed": true
   },
   "outputs": [],
   "source": [
    "import os\n",
    "import unicodedata\n",
    "from io import open\n",
    "import csv"
   ]
  },
  {
   "cell_type": "code",
   "execution_count": 2,
   "metadata": {
    "collapsed": true
   },
   "outputs": [],
   "source": [
    "import nltk\n",
    "from nltk.sentiment import vader\n",
    "from nltk.sentiment.vader import SentimentIntensityAnalyzer"
   ]
  },
  {
   "cell_type": "code",
   "execution_count": 7,
   "metadata": {
    "collapsed": true
   },
   "outputs": [],
   "source": [
    "# nltk.download('vader_lexicon', quiet=False)"
   ]
  },
  {
   "cell_type": "code",
   "execution_count": 8,
   "metadata": {
    "collapsed": true
   },
   "outputs": [],
   "source": [
    "vader_model = SentimentIntensityAnalyzer()"
   ]
  },
  {
   "cell_type": "markdown",
   "metadata": {},
   "source": [
    "# Import data"
   ]
  },
  {
   "cell_type": "code",
   "execution_count": 9,
   "metadata": {
    "collapsed": true
   },
   "outputs": [],
   "source": [
    "file_name = 'twitter_en_big.txt'\n",
    "path = os.path.join(\"chat_corpus/\", file_name)"
   ]
  },
  {
   "cell_type": "markdown",
   "metadata": {},
   "source": [
    "# Perform sentiment analysis on responses"
   ]
  },
  {
   "cell_type": "code",
   "execution_count": 10,
   "metadata": {},
   "outputs": [
    {
     "name": "stdout",
     "output_type": "stream",
     "text": [
      "<_io.TextIOWrapper name='chat_corpus/twitter_en_big.txt' mode='r' encoding='iso-8859-1'>\n"
     ]
    }
   ],
   "source": [
    "tweets=[]\n",
    "lines = {}\n",
    "with open(path, 'r', encoding='iso-8859-1') as f:\n",
    "    print(f)\n",
    "    for i, line in enumerate(f):\n",
    "        if i % 2 == 0:\n",
    "            lines['question'] = line\n",
    "            lines['senti_question'] = vader_model.polarity_scores(line)\n",
    "        else:\n",
    "            lines['respond'] = line\n",
    "            lines['senti_respond'] = scores = vader_model.polarity_scores(line)\n",
    "        \n",
    "        if i % 2 == 1:\n",
    "            tweets.append(lines)\n",
    "            lines = {}"
   ]
  },
  {
   "cell_type": "code",
   "execution_count": 11,
   "metadata": {},
   "outputs": [
    {
     "name": "stdout",
     "output_type": "stream",
     "text": [
      "2601244\n"
     ]
    }
   ],
   "source": [
    "print(len(tweets))"
   ]
  },
  {
   "cell_type": "code",
   "execution_count": 38,
   "metadata": {},
   "outputs": [
    {
     "data": {
      "text/plain": [
       "[{'question': 'whitney- i dont think shane wants to work with us. alex- i think shane has made a deal with everyone in the house. whitney- i do too\\n',\n",
       "  'respond': \"the paranoia has already began...why do they think shane doesn't wanna work with them? because he's not up their butt?\\n\",\n",
       "  'senti_respond': {'compound': -0.3313,\n",
       "   'neg': 0.11,\n",
       "   'neu': 0.89,\n",
       "   'pos': 0.0}},\n",
       " {'question': 'if you see any clowns tn lmk. me and the boys cleaning the streetsð\\x9f\\x98¤ð\\x9f\\x98¤\\n',\n",
       "  'respond': 'white ford boys ð\\x9f\\x98¤ð\\x9f\\x98¤ð\\x9f\\x98\\x82\\n',\n",
       "  'senti_respond': {'compound': 0.0, 'neg': 0.0, 'neu': 1.0, 'pos': 0.0}},\n",
       " {'question': 'when you find so you decide to stay in her class ð\\x9f\\x98\\x82ð\\x9f\\x98\\x89\\n',\n",
       "  'respond': \"too bad you don't actually go to my school you liar ð\\x9f\\x98\\x82\\n\",\n",
       "  'senti_respond': {'compound': -0.7783,\n",
       "   'neg': 0.405,\n",
       "   'neu': 0.595,\n",
       "   'pos': 0.0}},\n",
       " {'question': 'psych is being taken off of netflix tomorrow and i have 8 episodes left and i work tonight kill me\\n',\n",
       "  'respond': 'before you go to work open each episode up in its own tab\\n',\n",
       "  'senti_respond': {'compound': 0.0, 'neg': 0.0, 'neu': 1.0, 'pos': 0.0}},\n",
       " {'question': 'car door was clearly not open if you look at the video. you can see blood on the driver seat window\\n',\n",
       "  'respond': 'would you have sat and waited to see if he had a gun or would you have saved your own life\\n',\n",
       "  'senti_respond': {'compound': 0.1027,\n",
       "   'neg': 0.103,\n",
       "   'neu': 0.776,\n",
       "   'pos': 0.121}}]"
      ]
     },
     "execution_count": 38,
     "metadata": {},
     "output_type": "execute_result"
    }
   ],
   "source": [
    "example"
   ]
  },
  {
   "cell_type": "markdown",
   "metadata": {},
   "source": [
    "# Filter tweets on compound score"
   ]
  },
  {
   "cell_type": "code",
   "execution_count": 22,
   "metadata": {
    "collapsed": true
   },
   "outputs": [],
   "source": [
    "def get_tweets(data, threshold):\n",
    "    result_pos = []\n",
    "    result_neg = []\n",
    "    for tweet in data:\n",
    "        if tweet['senti_respond']['compound'] < -1 * threshold:\n",
    "            result_neg.append(tweet)\n",
    "        elif  tweet['senti_respond']['compound'] > threshold:\n",
    "            result_pos.append(tweet)\n",
    "    \n",
    "    return([result_pos, result_neg])"
   ]
  },
  {
   "cell_type": "code",
   "execution_count": 23,
   "metadata": {
    "collapsed": true
   },
   "outputs": [],
   "source": [
    "positive, negative = get_tweets(tweets, 0.5)"
   ]
  },
  {
   "cell_type": "code",
   "execution_count": 24,
   "metadata": {},
   "outputs": [
    {
     "name": "stdout",
     "output_type": "stream",
     "text": [
      "289147\n",
      "566118\n"
     ]
    }
   ],
   "source": [
    "print(len(negative))\n",
    "print(len(positive))"
   ]
  },
  {
   "cell_type": "code",
   "execution_count": 15,
   "metadata": {},
   "outputs": [
    {
     "data": {
      "text/plain": [
       "{'question': 'when you find so you decide to stay in her class ð\\x9f\\x98\\x82ð\\x9f\\x98\\x89\\n',\n",
       " 'respond': \"too bad you don't actually go to my school you liar ð\\x9f\\x98\\x82\\n\",\n",
       " 'senti_question': {'compound': 0.0, 'neg': 0.0, 'neu': 1.0, 'pos': 0.0},\n",
       " 'senti_respond': {'compound': -0.7783,\n",
       "  'neg': 0.405,\n",
       "  'neu': 0.595,\n",
       "  'pos': 0.0}}"
      ]
     },
     "execution_count": 15,
     "metadata": {},
     "output_type": "execute_result"
    }
   ],
   "source": [
    "negative[0]"
   ]
  },
  {
   "cell_type": "code",
   "execution_count": 16,
   "metadata": {},
   "outputs": [
    {
     "data": {
      "text/plain": [
       "{'question': 'not sure what u mean. and does this mean u dont agree to everyone having a respectful discussion?\\n',\n",
       " 'respond': \"not disagreeing w/ya. just saying i'm the witch and no one else is 2 blame.\\n\",\n",
       " 'senti_question': {'compound': -0.0186,\n",
       "  'neg': 0.214,\n",
       "  'neu': 0.629,\n",
       "  'pos': 0.157},\n",
       " 'senti_respond': {'compound': -0.6204,\n",
       "  'neg': 0.371,\n",
       "  'neu': 0.523,\n",
       "  'pos': 0.106}}"
      ]
     },
     "execution_count": 16,
     "metadata": {},
     "output_type": "execute_result"
    }
   ],
   "source": [
    "negative[2000]"
   ]
  },
  {
   "cell_type": "markdown",
   "metadata": {},
   "source": [
    "# Save dataset"
   ]
  },
  {
   "cell_type": "code",
   "execution_count": 150,
   "metadata": {
    "collapsed": true
   },
   "outputs": [],
   "source": [
    "# Extracts pairs of sentences from conversations\n",
    "def extractSentencePairs(conversations):\n",
    "    qa_pairs = []\n",
    "    for conversation in conversations:\n",
    "        # Iterate over all the lines of the conversation\n",
    "        inputLine = conversation['question'].strip()\n",
    "        targetLine = conversation['respond'].strip()\n",
    "        # Filter wrong samples (if one of the lists is empty)\n",
    "        if inputLine and targetLine:\n",
    "            qa_pairs.append([inputLine, targetLine])\n",
    "    return qa_pairs"
   ]
  },
  {
   "cell_type": "code",
   "execution_count": 156,
   "metadata": {
    "collapsed": true
   },
   "outputs": [],
   "source": [
    "datafile = \"chat_corpus/chatbot_tweets_neg.txt\""
   ]
  },
  {
   "cell_type": "code",
   "execution_count": 157,
   "metadata": {},
   "outputs": [
    {
     "name": "stdout",
     "output_type": "stream",
     "text": [
      "\n",
      "Writing newly formatted file...\n"
     ]
    }
   ],
   "source": [
    "# Write new csv file\n",
    "print(\"\\nWriting newly formatted file...\")\n",
    "with open(datafile, 'w', encoding='utf-8') as outputfile:\n",
    "    writer = csv.writer(outputfile, delimiter=\"=\", lineterminator='\\n')\n",
    "    for pair in extractSentencePairs(negative):\n",
    "        writer.writerow(pair)"
   ]
  },
  {
   "cell_type": "markdown",
   "metadata": {
    "collapsed": true
   },
   "source": [
    "# Investigate question sentiment"
   ]
  },
  {
   "cell_type": "code",
   "execution_count": 25,
   "metadata": {},
   "outputs": [
    {
     "data": {
      "text/plain": [
       "{'question': 'when you find so you decide to stay in her class ð\\x9f\\x98\\x82ð\\x9f\\x98\\x89\\n',\n",
       " 'respond': \"too bad you don't actually go to my school you liar ð\\x9f\\x98\\x82\\n\",\n",
       " 'senti_question': {'compound': 0.0, 'neg': 0.0, 'neu': 1.0, 'pos': 0.0},\n",
       " 'senti_respond': {'compound': -0.7783,\n",
       "  'neg': 0.405,\n",
       "  'neu': 0.595,\n",
       "  'pos': 0.0}}"
      ]
     },
     "execution_count": 25,
     "metadata": {},
     "output_type": "execute_result"
    }
   ],
   "source": [
    "negative[0]"
   ]
  },
  {
   "cell_type": "code",
   "execution_count": 29,
   "metadata": {},
   "outputs": [],
   "source": [
    "amount_positive = 0\n",
    "amount_neutral = 0\n",
    "amount_negative = 0\n",
    "\n",
    "for tweet in negative:\n",
    "    #print(tweet['senti_question']['compound'])\n",
    "    compound_score = tweet['senti_question']['compound']\n",
    "    if compound_score < -0.3:\n",
    "        amount_negative += 1\n",
    "    elif compound_score > 0.3:\n",
    "        amount_positive += 1\n",
    "    else:\n",
    "        amount_neutral += 1"
   ]
  },
  {
   "cell_type": "code",
   "execution_count": 33,
   "metadata": {},
   "outputs": [
    {
     "name": "stdout",
     "output_type": "stream",
     "text": [
      "91494\n",
      "74860\n",
      "122793\n"
     ]
    }
   ],
   "source": [
    "print(amount_negative)\n",
    "print(amount_positive)\n",
    "print(amount_neutral)"
   ]
  },
  {
   "cell_type": "code",
   "execution_count": 34,
   "metadata": {
    "collapsed": true
   },
   "outputs": [],
   "source": [
    "amount_positive = 0\n",
    "amount_neutral = 0\n",
    "amount_negative = 0\n",
    "\n",
    "for tweet in positive:\n",
    "    #print(tweet['senti_question']['compound'])\n",
    "    compound_score = tweet['senti_question']['compound']\n",
    "    if compound_score < -0.3:\n",
    "        amount_negative += 1\n",
    "    elif compound_score > 0.3:\n",
    "        amount_positive += 1\n",
    "    else:\n",
    "        amount_neutral += 1"
   ]
  },
  {
   "cell_type": "code",
   "execution_count": 35,
   "metadata": {},
   "outputs": [
    {
     "name": "stdout",
     "output_type": "stream",
     "text": [
      "83086\n",
      "255310\n",
      "227722\n"
     ]
    }
   ],
   "source": [
    "print(amount_negative)\n",
    "print(amount_positive)\n",
    "print(amount_neutral)"
   ]
  },
  {
   "cell_type": "code",
   "execution_count": null,
   "metadata": {
    "collapsed": true
   },
   "outputs": [],
   "source": []
  }
 ],
 "metadata": {
  "kernelspec": {
   "display_name": "Python [conda env:anaconda3]",
   "language": "python",
   "name": "conda-env-anaconda3-py"
  },
  "language_info": {
   "codemirror_mode": {
    "name": "ipython",
    "version": 3
   },
   "file_extension": ".py",
   "mimetype": "text/x-python",
   "name": "python",
   "nbconvert_exporter": "python",
   "pygments_lexer": "ipython3",
   "version": "3.6.8"
  }
 },
 "nbformat": 4,
 "nbformat_minor": 2
}
